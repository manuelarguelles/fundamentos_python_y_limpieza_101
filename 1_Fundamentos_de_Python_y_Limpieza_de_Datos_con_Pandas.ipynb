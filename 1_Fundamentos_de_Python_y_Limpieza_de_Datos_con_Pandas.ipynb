{
  "nbformat": 4,
  "nbformat_minor": 0,
  "metadata": {
    "colab": {
      "provenance": [],
      "authorship_tag": "ABX9TyMK8u5gl6uGwGn813wUiHnx",
      "include_colab_link": true
    },
    "kernelspec": {
      "name": "python3",
      "display_name": "Python 3"
    },
    "language_info": {
      "name": "python"
    }
  },
  "cells": [
    {
      "cell_type": "markdown",
      "metadata": {
        "id": "view-in-github",
        "colab_type": "text"
      },
      "source": [
        "<a href=\"https://colab.research.google.com/github/manuelarguelles/fundamentos_python_y_limpieza_101/blob/main/1_Fundamentos_de_Python_y_Limpieza_de_Datos_con_Pandas.ipynb\" target=\"_parent\"><img src=\"https://colab.research.google.com/assets/colab-badge.svg\" alt=\"Open In Colab\"/></a>"
      ]
    },
    {
      "cell_type": "code",
      "execution_count": null,
      "metadata": {
        "colab": {
          "base_uri": "https://localhost:8080/"
        },
        "id": "E6OqD4rmJJ7X",
        "outputId": "720c37ca-7291-42c1-e129-2b292426fbd1"
      },
      "outputs": [
        {
          "output_type": "stream",
          "name": "stdout",
          "text": [
            "11\n"
          ]
        }
      ],
      "source": [
        "x = 5\n",
        "y = 6\n",
        "print (5+6)"
      ]
    },
    {
      "cell_type": "markdown",
      "source": [
        "# Sesión 4.18: Fundamentos de Python y Limpieza de Datos con Pandas\n",
        "\n",
        "## Objetivos de la Sesión\n",
        "1. Configurar entorno con Jupyter Notebooks\n",
        "2. Aprender estructuras básicas de Pandas (Series y DataFrames)\n",
        "3. Cargar datos desde archivos CSV\n",
        "4. Realizar limpieza de datos: nulos, duplicados, tipos de datos\n",
        "5. Filtrar, ordenar y transformar datos\n",
        "6. Crear un pipeline completo de limpieza\n",
        "\n",
        "---"
      ],
      "metadata": {
        "id": "ttRWqiuaJunZ"
      }
    },
    {
      "cell_type": "markdown",
      "source": [
        "## 1. Importación de Librerías\n",
        "\n",
        "Importamos las librerías necesarias para el análisis de datos."
      ],
      "metadata": {
        "id": "KJGKCHDdJzpv"
      }
    },
    {
      "cell_type": "code",
      "source": [
        "# Importar librerías principales\n",
        "import pandas as pd  # Para manipulación de datos\n",
        "import numpy as np   # Para operaciones numéricas\n",
        "\n",
        "# Configuración para mostrar más columnas y filas\n",
        "pd.set_option('display.max_columns', None)  # Mostrar todas las columnas\n",
        "pd.set_option('display.max_rows', 100)      # Mostrar hasta 100 filas\n",
        "pd.set_option('display.width', None)        # Ancho automático\n",
        "\n",
        "# Verificar versiones\n",
        "print(f\"Pandas version: {pd.__version__}\")\n",
        "print(f\"NumPy version: {np.__version__}\")"
      ],
      "metadata": {
        "colab": {
          "base_uri": "https://localhost:8080/"
        },
        "id": "xlpARdM-J19l",
        "outputId": "e91ec897-4157-44b3-9722-ecaf86d3f82d"
      },
      "execution_count": null,
      "outputs": [
        {
          "output_type": "stream",
          "name": "stdout",
          "text": [
            "Pandas version: 2.2.2\n",
            "NumPy version: 2.0.2\n"
          ]
        }
      ]
    },
    {
      "cell_type": "markdown",
      "source": [
        "---\n",
        "## 2. Pandas Series - Estructura Unidimensional\n",
        "\n",
        "Una **Series** es un array unidimensional con índices etiquetados."
      ],
      "metadata": {
        "id": "lQujVRO9J5a6"
      }
    },
    {
      "cell_type": "code",
      "source": [
        "# Crear una Series desde una lista\n",
        "ventas_enero = pd.Series([150000, 200000, 175000, 300000])\n",
        "print(\"Series con índices automáticos:\")\n",
        "print(ventas_enero)\n",
        "print(f\"\\nTipo: {type(ventas_enero)}\")"
      ],
      "metadata": {
        "colab": {
          "base_uri": "https://localhost:8080/"
        },
        "id": "PZR52A1mJ7jJ",
        "outputId": "e40c8aaf-48d4-47bc-b428-1e5cf1a7ef14"
      },
      "execution_count": null,
      "outputs": [
        {
          "output_type": "stream",
          "name": "stdout",
          "text": [
            "Series con índices automáticos:\n",
            "0    150000\n",
            "1    200000\n",
            "2    175000\n",
            "3    300000\n",
            "dtype: int64\n",
            "\n",
            "Tipo: <class 'pandas.core.series.Series'>\n"
          ]
        }
      ]
    },
    {
      "cell_type": "code",
      "source": [
        "# Crear Series con índices personalizados\n",
        "ventas_por_mes = pd.Series(\n",
        "    [150000, 200000, 175000, 300000],\n",
        "    index=['Enero', 'Febrero', 'Marzo', 'Abril']\n",
        ")\n",
        "print(\"Series con índices personalizados:\")\n",
        "print(ventas_por_mes)"
      ],
      "metadata": {
        "colab": {
          "base_uri": "https://localhost:8080/"
        },
        "id": "c02V0I15KKdc",
        "outputId": "5d610f97-8f3c-4a2e-833a-13d3ba014303"
      },
      "execution_count": null,
      "outputs": [
        {
          "output_type": "stream",
          "name": "stdout",
          "text": [
            "Series con índices personalizados:\n",
            "Enero      150000\n",
            "Febrero    200000\n",
            "Marzo      175000\n",
            "Abril      300000\n",
            "dtype: int64\n"
          ]
        }
      ]
    },
    {
      "cell_type": "code",
      "source": [
        "# Crear Series desde un diccionario\n",
        "precios_productos = pd.Series({\n",
        "    'Laptop': 1299.99,\n",
        "    'Mouse': 25.50,\n",
        "    'Teclado': 89.99,\n",
        "    'Monitor': 349.99\n",
        "})\n",
        "print(\"Series desde diccionario:\")\n",
        "print(precios_productos)"
      ],
      "metadata": {
        "colab": {
          "base_uri": "https://localhost:8080/"
        },
        "id": "_N9N_coMKNgK",
        "outputId": "b1a11baa-156a-47f0-e804-c024fb66a9ed"
      },
      "execution_count": null,
      "outputs": [
        {
          "output_type": "stream",
          "name": "stdout",
          "text": [
            "Series desde diccionario:\n",
            "Laptop     1299.99\n",
            "Mouse        25.50\n",
            "Teclado      89.99\n",
            "Monitor     349.99\n",
            "dtype: float64\n"
          ]
        }
      ]
    },
    {
      "cell_type": "code",
      "source": [
        "# Operaciones básicas con Series\n",
        "print(\"Operaciones con Series:\")\n",
        "print(f\"Suma total: ${ventas_por_mes.sum():,.2f}\")\n",
        "print(f\"Promedio: ${ventas_por_mes.mean():,.2f}\")\n",
        "print(f\"Máximo: ${ventas_por_mes.max():,.2f}\")\n",
        "print(f\"Mínimo: ${ventas_por_mes.min():,.2f}\")\n",
        "\n",
        "# Operaciones vectorizadas\n",
        "print(\"\\nIncrementar 10% todas las ventas:\")\n",
        "print(ventas_por_mes * 1.1)\n",
        "\n",
        "# Filtrado\n",
        "print(\"\\nMeses con ventas > 180,000:\")\n",
        "print(ventas_por_mes[ventas_por_mes > 180000])"
      ],
      "metadata": {
        "colab": {
          "base_uri": "https://localhost:8080/"
        },
        "id": "JPw1fYMyKQl3",
        "outputId": "3ee8a3cc-bc46-40ae-9a56-23e957125742"
      },
      "execution_count": null,
      "outputs": [
        {
          "output_type": "stream",
          "name": "stdout",
          "text": [
            "Operaciones con Series:\n",
            "Suma total: $825,000.00\n",
            "Promedio: $206,250.00\n",
            "Máximo: $300,000.00\n",
            "Mínimo: $150,000.00\n",
            "\n",
            "Incrementar 10% todas las ventas:\n",
            "Enero      165000.0\n",
            "Febrero    220000.0\n",
            "Marzo      192500.0\n",
            "Abril      330000.0\n",
            "dtype: float64\n",
            "\n",
            "Meses con ventas > 180,000:\n",
            "Febrero    200000\n",
            "Abril      300000\n",
            "dtype: int64\n"
          ]
        }
      ]
    },
    {
      "cell_type": "markdown",
      "source": [
        "---\n",
        "## 3. Pandas DataFrames - Estructura Bidimensional\n",
        "\n",
        "Un **DataFrame** es una estructura bidimensional (tabla) con filas y columnas etiquetadas."
      ],
      "metadata": {
        "id": "QrMA5C3nKYGm"
      }
    },
    {
      "cell_type": "code",
      "source": [
        "# Crear DataFrame desde un diccionario\n",
        "ventas_df = pd.DataFrame({\n",
        "    'producto': ['Laptop', 'Mouse', 'Teclado', 'Monitor'],\n",
        "    'precio': [1299.99, 25.50, 89.99, 349.99],\n",
        "    'cantidad': [5, 50, 30, 10],\n",
        "    'categoria': ['Computadoras', 'Accesorios', 'Accesorios', 'Computadoras']\n",
        "})\n",
        "\n",
        "print(\"DataFrame de ventas:\")\n",
        "print(ventas_df)"
      ],
      "metadata": {
        "colab": {
          "base_uri": "https://localhost:8080/"
        },
        "id": "f09So83wKaAC",
        "outputId": "d4ee243e-9075-41ea-b9f6-20ca9b64283d"
      },
      "execution_count": null,
      "outputs": [
        {
          "output_type": "stream",
          "name": "stdout",
          "text": [
            "DataFrame de ventas:\n",
            "  producto   precio  cantidad     categoria\n",
            "0   Laptop  1299.99         5  Computadoras\n",
            "1    Mouse    25.50        50    Accesorios\n",
            "2  Teclado    89.99        30    Accesorios\n",
            "3  Monitor   349.99        10  Computadoras\n"
          ]
        }
      ]
    },
    {
      "cell_type": "code",
      "source": [
        "# Explorar la anatomía del DataFrame\n",
        "print(\"=== ANATOMÍA DEL DATAFRAME ===\\n\")\n",
        "\n",
        "# Dimensiones (filas, columnas)\n",
        "print(f\"Dimensiones (filas, columnas): {ventas_df.shape}\")\n",
        "\n",
        "# Nombres de columnas\n",
        "print(f\"\\nColumnas: {ventas_df.columns.tolist()}\")\n",
        "\n",
        "# Índices\n",
        "print(f\"\\nÍndices: {ventas_df.index.tolist()}\")\n",
        "\n",
        "# Tipos de datos\n",
        "print(\"\\nTipos de datos por columna:\")\n",
        "print(ventas_df.dtypes)"
      ],
      "metadata": {
        "colab": {
          "base_uri": "https://localhost:8080/"
        },
        "id": "qKSk7THaKdel",
        "outputId": "106671ef-1060-4095-b240-7ea905e75368"
      },
      "execution_count": null,
      "outputs": [
        {
          "output_type": "stream",
          "name": "stdout",
          "text": [
            "=== ANATOMÍA DEL DATAFRAME ===\n",
            "\n",
            "Dimensiones (filas, columnas): (4, 4)\n",
            "\n",
            "Columnas: ['producto', 'precio', 'cantidad', 'categoria']\n",
            "\n",
            "Índices: [0, 1, 2, 3]\n",
            "\n",
            "Tipos de datos por columna:\n",
            "producto      object\n",
            "precio       float64\n",
            "cantidad       int64\n",
            "categoria     object\n",
            "dtype: object\n"
          ]
        }
      ]
    },
    {
      "cell_type": "code",
      "source": [
        "# Métodos de inspección rápida\n",
        "print(\"=== INSPECCIÓN RÁPIDA ===\\n\")\n",
        "\n",
        "# Primeras filas\n",
        "print(\"Primeras 3 filas:\")\n",
        "print(ventas_df.head(3))\n",
        "\n",
        "# Últimas filas\n",
        "print(\"\\nÚltimas 2 filas:\")\n",
        "print(ventas_df.tail(2))"
      ],
      "metadata": {
        "colab": {
          "base_uri": "https://localhost:8080/"
        },
        "id": "tJsY-_ohKfi-",
        "outputId": "963d2040-a617-425f-dd14-caad3a11efb3"
      },
      "execution_count": null,
      "outputs": [
        {
          "output_type": "stream",
          "name": "stdout",
          "text": [
            "=== INSPECCIÓN RÁPIDA ===\n",
            "\n",
            "Primeras 3 filas:\n",
            "  producto   precio  cantidad     categoria\n",
            "0   Laptop  1299.99         5  Computadoras\n",
            "1    Mouse    25.50        50    Accesorios\n",
            "2  Teclado    89.99        30    Accesorios\n",
            "\n",
            "Últimas 2 filas:\n",
            "  producto  precio  cantidad     categoria\n",
            "2  Teclado   89.99        30    Accesorios\n",
            "3  Monitor  349.99        10  Computadoras\n"
          ]
        }
      ]
    },
    {
      "cell_type": "code",
      "source": [
        "# Información general del DataFrame\n",
        "print(\"Información general del DataFrame:\")\n",
        "print(ventas_df.info())"
      ],
      "metadata": {
        "colab": {
          "base_uri": "https://localhost:8080/"
        },
        "id": "OfDqhM8MKjHm",
        "outputId": "17af1d69-a823-4ccb-b1e3-d778c386eeaf"
      },
      "execution_count": null,
      "outputs": [
        {
          "output_type": "stream",
          "name": "stdout",
          "text": [
            "Información general del DataFrame:\n",
            "<class 'pandas.core.frame.DataFrame'>\n",
            "RangeIndex: 4 entries, 0 to 3\n",
            "Data columns (total 4 columns):\n",
            " #   Column     Non-Null Count  Dtype  \n",
            "---  ------     --------------  -----  \n",
            " 0   producto   4 non-null      object \n",
            " 1   precio     4 non-null      float64\n",
            " 2   cantidad   4 non-null      int64  \n",
            " 3   categoria  4 non-null      object \n",
            "dtypes: float64(1), int64(1), object(2)\n",
            "memory usage: 260.0+ bytes\n",
            "None\n"
          ]
        }
      ]
    },
    {
      "cell_type": "code",
      "source": [
        "# Estadísticas descriptivas\n",
        "print(\"Estadísticas descriptivas (solo columnas numéricas):\")\n",
        "print(ventas_df.describe())\n",
        "\n",
        "print(\"\\n\\nEstadísticas de todas las columnas:\")\n",
        "print(ventas_df.describe(include='all'))"
      ],
      "metadata": {
        "colab": {
          "base_uri": "https://localhost:8080/"
        },
        "id": "EH_eIrABKlwX",
        "outputId": "22a1c8ba-c9bc-40b9-9f2e-e64aac7a03a5"
      },
      "execution_count": null,
      "outputs": [
        {
          "output_type": "stream",
          "name": "stdout",
          "text": [
            "Estadísticas descriptivas (solo columnas numéricas):\n",
            "            precio   cantidad\n",
            "count     4.000000   4.000000\n",
            "mean    441.367500  23.750000\n",
            "std     589.348332  20.564938\n",
            "min      25.500000   5.000000\n",
            "25%      73.867500   8.750000\n",
            "50%     219.990000  20.000000\n",
            "75%     587.490000  35.000000\n",
            "max    1299.990000  50.000000\n",
            "\n",
            "\n",
            "Estadísticas de todas las columnas:\n",
            "       producto       precio   cantidad     categoria\n",
            "count         4     4.000000   4.000000             4\n",
            "unique        4          NaN        NaN             2\n",
            "top      Laptop          NaN        NaN  Computadoras\n",
            "freq          1          NaN        NaN             2\n",
            "mean        NaN   441.367500  23.750000           NaN\n",
            "std         NaN   589.348332  20.564938           NaN\n",
            "min         NaN    25.500000   5.000000           NaN\n",
            "25%         NaN    73.867500   8.750000           NaN\n",
            "50%         NaN   219.990000  20.000000           NaN\n",
            "75%         NaN   587.490000  35.000000           NaN\n",
            "max         NaN  1299.990000  50.000000           NaN\n"
          ]
        }
      ]
    },
    {
      "cell_type": "markdown",
      "source": [
        "---\n",
        "## 4. Selección de Datos en DataFrames\n",
        "\n",
        "Diferentes métodos para acceder y seleccionar datos."
      ],
      "metadata": {
        "id": "cvySaK9KKnhO"
      }
    },
    {
      "cell_type": "code",
      "source": [
        "# Selección de columnas\n",
        "print(\"=== SELECCIÓN DE COLUMNAS ===\\n\")\n",
        "\n",
        "# Una columna (retorna Series)\n",
        "print(\"Una columna (tipo Series):\")\n",
        "print(ventas_df['producto'])\n",
        "print(f\"Tipo: {type(ventas_df['producto'])}\")\n",
        "\n",
        "# Múltiples columnas (retorna DataFrame)\n",
        "print(\"\\n\\nMúltiples columnas (tipo DataFrame):\")\n",
        "print(ventas_df[['producto', 'precio']])\n",
        "print(f\"Tipo: {type(ventas_df[['producto', 'precio']])}\")"
      ],
      "metadata": {
        "colab": {
          "base_uri": "https://localhost:8080/"
        },
        "id": "EzKB_E5_KqE0",
        "outputId": "4e083d29-f46f-41a3-ef50-fc4a0918ce99"
      },
      "execution_count": null,
      "outputs": [
        {
          "output_type": "stream",
          "name": "stdout",
          "text": [
            "=== SELECCIÓN DE COLUMNAS ===\n",
            "\n",
            "Una columna (tipo Series):\n",
            "0     Laptop\n",
            "1      Mouse\n",
            "2    Teclado\n",
            "3    Monitor\n",
            "Name: producto, dtype: object\n",
            "Tipo: <class 'pandas.core.series.Series'>\n",
            "\n",
            "\n",
            "Múltiples columnas (tipo DataFrame):\n",
            "  producto   precio\n",
            "0   Laptop  1299.99\n",
            "1    Mouse    25.50\n",
            "2  Teclado    89.99\n",
            "3  Monitor   349.99\n",
            "Tipo: <class 'pandas.core.frame.DataFrame'>\n"
          ]
        }
      ]
    },
    {
      "cell_type": "code",
      "source": [
        "# Acceso con .loc[] (por etiquetas)\n",
        "print(\"=== ACCESO CON .loc[] ===\\n\")\n",
        "\n",
        "# Seleccionar una fila\n",
        "print(\"Fila con índice 0:\")\n",
        "print(ventas_df.loc[0])\n",
        "\n",
        "# Seleccionar rango de filas (inclusivo en ambos extremos)\n",
        "print(\"\\n\\nFilas 0 a 2 (inclusivo):\")\n",
        "print(ventas_df.loc[0:2])\n",
        "\n",
        "# Seleccionar filas y columnas específicas\n",
        "print(\"\\n\\nFilas 0-2, columnas 'producto' y 'precio':\")\n",
        "print(ventas_df.loc[0:2, ['producto', 'precio']])\n",
        "\n",
        "# Todas las filas, columnas específicas\n",
        "print(\"\\n\\nTodas las filas, columnas seleccionadas:\")\n",
        "print(ventas_df.loc[:, ['producto', 'cantidad']])"
      ],
      "metadata": {
        "colab": {
          "base_uri": "https://localhost:8080/"
        },
        "id": "_vnoU1v9Kr9G",
        "outputId": "e50113d8-e873-4f12-fc5e-517ce12c1f94"
      },
      "execution_count": null,
      "outputs": [
        {
          "output_type": "stream",
          "name": "stdout",
          "text": [
            "=== ACCESO CON .loc[] ===\n",
            "\n",
            "Fila con índice 0:\n",
            "producto           Laptop\n",
            "precio            1299.99\n",
            "cantidad                5\n",
            "categoria    Computadoras\n",
            "Name: 0, dtype: object\n",
            "\n",
            "\n",
            "Filas 0 a 2 (inclusivo):\n",
            "  producto   precio  cantidad     categoria\n",
            "0   Laptop  1299.99         5  Computadoras\n",
            "1    Mouse    25.50        50    Accesorios\n",
            "2  Teclado    89.99        30    Accesorios\n",
            "\n",
            "\n",
            "Filas 0-2, columnas 'producto' y 'precio':\n",
            "  producto   precio\n",
            "0   Laptop  1299.99\n",
            "1    Mouse    25.50\n",
            "2  Teclado    89.99\n",
            "\n",
            "\n",
            "Todas las filas, columnas seleccionadas:\n",
            "  producto  cantidad\n",
            "0   Laptop         5\n",
            "1    Mouse        50\n",
            "2  Teclado        30\n",
            "3  Monitor        10\n"
          ]
        }
      ]
    },
    {
      "cell_type": "code",
      "source": [
        "# Acceso con .iloc[] (por posición numérica)\n",
        "print(\"=== ACCESO CON .iloc[] ===\\n\")\n",
        "\n",
        "# Primera fila\n",
        "print(\"Primera fila (posición 0):\")\n",
        "print(ventas_df.iloc[0])\n",
        "\n",
        "# Primeras 3 filas (exclusivo en límite superior)\n",
        "print(\"\\n\\nPrimeras 3 filas (0:3):\")\n",
        "print(ventas_df.iloc[0:3])\n",
        "\n",
        "# Todas las filas, primeras 2 columnas\n",
        "print(\"\\n\\nTodas las filas, primeras 2 columnas:\")\n",
        "print(ventas_df.iloc[:, 0:2])\n",
        "\n",
        "# Última fila\n",
        "print(\"\\n\\nÚltima fila:\")\n",
        "print(ventas_df.iloc[-1])"
      ],
      "metadata": {
        "colab": {
          "base_uri": "https://localhost:8080/"
        },
        "id": "R1g1UnwtKuKj",
        "outputId": "f2c1d109-8451-45ec-bcbc-55a1c9bcb11a"
      },
      "execution_count": null,
      "outputs": [
        {
          "output_type": "stream",
          "name": "stdout",
          "text": [
            "=== ACCESO CON .iloc[] ===\n",
            "\n",
            "Primera fila (posición 0):\n",
            "producto           Laptop\n",
            "precio            1299.99\n",
            "cantidad                5\n",
            "categoria    Computadoras\n",
            "Name: 0, dtype: object\n",
            "\n",
            "\n",
            "Primeras 3 filas (0:3):\n",
            "  producto   precio  cantidad     categoria\n",
            "0   Laptop  1299.99         5  Computadoras\n",
            "1    Mouse    25.50        50    Accesorios\n",
            "2  Teclado    89.99        30    Accesorios\n",
            "\n",
            "\n",
            "Todas las filas, primeras 2 columnas:\n",
            "  producto   precio\n",
            "0   Laptop  1299.99\n",
            "1    Mouse    25.50\n",
            "2  Teclado    89.99\n",
            "3  Monitor   349.99\n",
            "\n",
            "\n",
            "Última fila:\n",
            "producto          Monitor\n",
            "precio             349.99\n",
            "cantidad               10\n",
            "categoria    Computadoras\n",
            "Name: 3, dtype: object\n"
          ]
        }
      ]
    },
    {
      "cell_type": "code",
      "source": [
        "# Selección booleana (filtrado)\n",
        "print(\"=== SELECCIÓN BOOLEANA ===\\n\")\n",
        "\n",
        "# Filtro simple\n",
        "print(\"Productos con precio > 100:\")\n",
        "print(ventas_df[ventas_df['precio'] > 100])\n",
        "\n",
        "# Múltiples condiciones con AND\n",
        "print(\"\\n\\nPrecio > 50 Y cantidad > 10:\")\n",
        "print(ventas_df[(ventas_df['precio'] > 50) & (ventas_df['cantidad'] > 10)])\n",
        "\n",
        "# Múltiples condiciones con OR\n",
        "print(\"\\n\\nCategoría Accesorios O precio < 100:\")\n",
        "print(ventas_df[(ventas_df['categoria'] == 'Accesorios') | (ventas_df['precio'] < 100)])\n",
        "\n",
        "# Filtro con .isin()\n",
        "categorias = ['Computadoras', 'Tablets']\n",
        "print(f\"\\n\\nProductos en categorías {categorias}:\")\n",
        "print(ventas_df[ventas_df['categoria'].isin(categorias)])"
      ],
      "metadata": {
        "colab": {
          "base_uri": "https://localhost:8080/"
        },
        "id": "3z8drjz1Kvqp",
        "outputId": "5954c4ec-2d73-46f5-d1cc-803419ba1dfd"
      },
      "execution_count": null,
      "outputs": [
        {
          "output_type": "stream",
          "name": "stdout",
          "text": [
            "=== SELECCIÓN BOOLEANA ===\n",
            "\n",
            "Productos con precio > 100:\n",
            "  producto   precio  cantidad     categoria\n",
            "0   Laptop  1299.99         5  Computadoras\n",
            "3  Monitor   349.99        10  Computadoras\n",
            "\n",
            "\n",
            "Precio > 50 Y cantidad > 10:\n",
            "  producto  precio  cantidad   categoria\n",
            "2  Teclado   89.99        30  Accesorios\n",
            "\n",
            "\n",
            "Categoría Accesorios O precio < 100:\n",
            "  producto  precio  cantidad   categoria\n",
            "1    Mouse   25.50        50  Accesorios\n",
            "2  Teclado   89.99        30  Accesorios\n",
            "\n",
            "\n",
            "Productos en categorías ['Computadoras', 'Tablets']:\n",
            "  producto   precio  cantidad     categoria\n",
            "0   Laptop  1299.99         5  Computadoras\n",
            "3  Monitor   349.99        10  Computadoras\n"
          ]
        }
      ]
    },
    {
      "cell_type": "markdown",
      "source": [
        "---\n",
        "## 5. Carga de Datos desde CSV\n",
        "\n",
        "Ahora vamos a cargar el dataset real con problemas típicos de datos sucios."
      ],
      "metadata": {
        "id": "GhVEoBB6KzoY"
      }
    },
    {
      "cell_type": "code",
      "source": [
        "# Cargar el archivo CSV con datos crudos\n",
        "# NOTA: Asegurarse de que el archivo 'ventas_raw.csv' esté en el mismo directorio\n",
        "\n",
        "df_raw = pd.read_csv('ventas_raw.csv')\n",
        "\n",
        "print(\"=== DATOS CARGADOS (RAW) ===\")\n",
        "print(f\"Dimensiones: {df_raw.shape}\")\n",
        "print(f\"\\nPrimeras 10 filas:\")\n",
        "print(df_raw.head(10))"
      ],
      "metadata": {
        "colab": {
          "base_uri": "https://localhost:8080/"
        },
        "id": "xN8uTPFAKxql",
        "outputId": "4473e9b3-d00c-4e00-ad44-f85f376b8c83"
      },
      "execution_count": null,
      "outputs": [
        {
          "output_type": "stream",
          "name": "stdout",
          "text": [
            "=== DATOS CARGADOS (RAW) ===\n",
            "Dimensiones: (21, 11)\n",
            "\n",
            "Primeras 10 filas:\n",
            "  transaccion_id fecha_venta producto_id             producto     categoria  \\\n",
            "0         TXN001  2024-01-15     PROD001   Laptop Dell XPS 13  Computadoras   \n",
            "1         TXN002  2024-01-16     PROD002    Mouse Logitech MX    Accesorios   \n",
            "2         TXN003  2024/01/17     PROD003     Teclado Mecánico    Accesorios   \n",
            "3         TXN004  2024-01-18     PROD004  Monitor Samsung 27\"  Computadoras   \n",
            "4         TXN005  2024-01-19     PROD001   Laptop Dell XPS 13  Computadoras   \n",
            "5         TXN006  2024-01-20     PROD005      Webcam Logitech    Accesorios   \n",
            "6         TXN007  15-01-2024     PROD006       Audífonos Sony    Accesorios   \n",
            "7         TXN008  2024-01-22     PROD007       Tablet Samsung       Tablets   \n",
            "8         TXN009  2024-01-23     PROD002    Mouse Logitech MX    accesorios   \n",
            "9         TXN010  2024-01-24     PROD008         Impresora HP   Periféricos   \n",
            "\n",
            "    precio  cantidad cliente_id              cliente  region  descuento  \n",
            "0  1299.99       2.0     CLI001           Juan Pérez   Norte       0.10  \n",
            "1   $25.50      50.0     CLI002         María García     Sur       0.05  \n",
            "2    89.99      30.0     CLI003         Carlos López    Este        NaN  \n",
            "3   349.99      10.0     CLI004         Ana Martínez   Oeste       0.15  \n",
            "4  1299.99       1.0     CLI005       Luis Rodríguez   Norte       0.10  \n",
            "5    79.99       NaN     CLI006    Sofia Hernández    Centro       0.00  \n",
            "6      NaN      25.0     CLI007       Pedro González     Sur       0.20  \n",
            "7   450.00       5.0     CLI008        Laura Sánchez   Norte       0.10  \n",
            "8    25.50     100.0     CLI009         Roberto Díaz    Este        NaN  \n",
            "9   199.99       8.0     CLI010          Carmen Ruiz   Oeste       0.05  \n"
          ]
        }
      ]
    },
    {
      "cell_type": "code",
      "source": [
        "# Exploración inicial del dataset crudo\n",
        "print(\"=== EXPLORACIÓN INICIAL ===\\n\")\n",
        "print(df_raw.info())"
      ],
      "metadata": {
        "colab": {
          "base_uri": "https://localhost:8080/"
        },
        "id": "PM2lmYukLmml",
        "outputId": "6cc90731-e09e-4a00-de4d-4d2948964063"
      },
      "execution_count": null,
      "outputs": [
        {
          "output_type": "stream",
          "name": "stdout",
          "text": [
            "=== EXPLORACIÓN INICIAL ===\n",
            "\n",
            "<class 'pandas.core.frame.DataFrame'>\n",
            "RangeIndex: 21 entries, 0 to 20\n",
            "Data columns (total 11 columns):\n",
            " #   Column          Non-Null Count  Dtype  \n",
            "---  ------          --------------  -----  \n",
            " 0   transaccion_id  21 non-null     object \n",
            " 1   fecha_venta     20 non-null     object \n",
            " 2   producto_id     21 non-null     object \n",
            " 3   producto        21 non-null     object \n",
            " 4   categoria       21 non-null     object \n",
            " 5   precio          20 non-null     object \n",
            " 6   cantidad        20 non-null     float64\n",
            " 7   cliente_id      21 non-null     object \n",
            " 8   cliente         21 non-null     object \n",
            " 9   region          21 non-null     object \n",
            " 10  descuento       18 non-null     float64\n",
            "dtypes: float64(2), object(9)\n",
            "memory usage: 1.9+ KB\n",
            "None\n"
          ]
        }
      ]
    },
    {
      "cell_type": "code",
      "source": [
        "# Estadísticas descriptivas del dataset crudo\n",
        "print(\"Estadísticas descriptivas:\")\n",
        "print(df_raw.describe(include='all'))"
      ],
      "metadata": {
        "colab": {
          "base_uri": "https://localhost:8080/"
        },
        "id": "9t8ADH1mLqBe",
        "outputId": "bf910e85-8222-4a9b-c0be-97d43acd5885"
      },
      "execution_count": null,
      "outputs": [
        {
          "output_type": "stream",
          "name": "stdout",
          "text": [
            "Estadísticas descriptivas:\n",
            "       transaccion_id fecha_venta producto_id            producto   categoria  \\\n",
            "count              21          20          21                  21          21   \n",
            "unique             20          19          15                  15          10   \n",
            "top            TXN001  2024-01-15     PROD001  Laptop Dell XPS 13  Accesorios   \n",
            "freq                2           2           4                   4           8   \n",
            "mean              NaN         NaN         NaN                 NaN         NaN   \n",
            "std               NaN         NaN         NaN                 NaN         NaN   \n",
            "min               NaN         NaN         NaN                 NaN         NaN   \n",
            "25%               NaN         NaN         NaN                 NaN         NaN   \n",
            "50%               NaN         NaN         NaN                 NaN         NaN   \n",
            "75%               NaN         NaN         NaN                 NaN         NaN   \n",
            "max               NaN         NaN         NaN                 NaN         NaN   \n",
            "\n",
            "         precio    cantidad cliente_id     cliente region  descuento  \n",
            "count        20   20.000000         21          21     21  18.000000  \n",
            "unique       15         NaN         20          20      5        NaN  \n",
            "top     1299.99         NaN     CLI001  Juan Pérez  Norte        NaN  \n",
            "freq          4         NaN          2           2      6        NaN  \n",
            "mean        NaN   27.650000        NaN         NaN    NaN   0.088889  \n",
            "std         NaN   47.157379        NaN         NaN    NaN   0.065788  \n",
            "min         NaN   -5.000000        NaN         NaN    NaN  -0.050000  \n",
            "25%         NaN    2.750000        NaN         NaN    NaN   0.050000  \n",
            "50%         NaN   11.000000        NaN         NaN    NaN   0.100000  \n",
            "75%         NaN   30.000000        NaN         NaN    NaN   0.115000  \n",
            "max         NaN  200.000000        NaN         NaN    NaN   0.200000  \n"
          ]
        }
      ]
    },
    {
      "cell_type": "code",
      "source": [
        "# Estadísticas descriptivas del dataset crudo\n",
        "print(\"Estadísticas descriptivas:\")\n",
        "print(df_raw.describe(include='all'))"
      ],
      "metadata": {
        "colab": {
          "base_uri": "https://localhost:8080/"
        },
        "id": "LzvKQ3WHLu6s",
        "outputId": "7ea88075-1f7c-483e-fca2-0df572fc552f"
      },
      "execution_count": null,
      "outputs": [
        {
          "output_type": "stream",
          "name": "stdout",
          "text": [
            "Estadísticas descriptivas:\n",
            "       transaccion_id fecha_venta producto_id            producto   categoria  \\\n",
            "count              21          20          21                  21          21   \n",
            "unique             20          19          15                  15          10   \n",
            "top            TXN001  2024-01-15     PROD001  Laptop Dell XPS 13  Accesorios   \n",
            "freq                2           2           4                   4           8   \n",
            "mean              NaN         NaN         NaN                 NaN         NaN   \n",
            "std               NaN         NaN         NaN                 NaN         NaN   \n",
            "min               NaN         NaN         NaN                 NaN         NaN   \n",
            "25%               NaN         NaN         NaN                 NaN         NaN   \n",
            "50%               NaN         NaN         NaN                 NaN         NaN   \n",
            "75%               NaN         NaN         NaN                 NaN         NaN   \n",
            "max               NaN         NaN         NaN                 NaN         NaN   \n",
            "\n",
            "         precio    cantidad cliente_id     cliente region  descuento  \n",
            "count        20   20.000000         21          21     21  18.000000  \n",
            "unique       15         NaN         20          20      5        NaN  \n",
            "top     1299.99         NaN     CLI001  Juan Pérez  Norte        NaN  \n",
            "freq          4         NaN          2           2      6        NaN  \n",
            "mean        NaN   27.650000        NaN         NaN    NaN   0.088889  \n",
            "std         NaN   47.157379        NaN         NaN    NaN   0.065788  \n",
            "min         NaN   -5.000000        NaN         NaN    NaN  -0.050000  \n",
            "25%         NaN    2.750000        NaN         NaN    NaN   0.050000  \n",
            "50%         NaN   11.000000        NaN         NaN    NaN   0.100000  \n",
            "75%         NaN   30.000000        NaN         NaN    NaN   0.115000  \n",
            "max         NaN  200.000000        NaN         NaN    NaN   0.200000  \n"
          ]
        }
      ]
    },
    {
      "cell_type": "markdown",
      "source": [
        "---\n",
        "## 6. Detección de Problemas en los Datos\n",
        "\n",
        "Identificamos todos los problemas presentes en el dataset."
      ],
      "metadata": {
        "id": "nT_VmrPiLxOP"
      }
    },
    {
      "cell_type": "code",
      "source": [
        "# 1. Detectar valores nulos\n",
        "print(\"=== DETECCIÓN DE VALORES NULOS ===\\n\")\n",
        "print(\"Nulos por columna:\")\n",
        "print(df_raw.isnull().sum())\n",
        "\n",
        "print(f\"\\nTotal de valores nulos: {df_raw.isnull().sum().sum()}\")\n",
        "print(f\"Porcentaje de nulos por columna:\")\n",
        "print((df_raw.isnull().sum() / len(df_raw)) * 100)"
      ],
      "metadata": {
        "colab": {
          "base_uri": "https://localhost:8080/"
        },
        "id": "HqsQBdhFLwoq",
        "outputId": "0ecff6fa-fe91-4f9e-bc69-df4b29a58213"
      },
      "execution_count": null,
      "outputs": [
        {
          "output_type": "stream",
          "name": "stdout",
          "text": [
            "=== DETECCIÓN DE VALORES NULOS ===\n",
            "\n",
            "Nulos por columna:\n",
            "transaccion_id    0\n",
            "fecha_venta       1\n",
            "producto_id       0\n",
            "producto          0\n",
            "categoria         0\n",
            "precio            1\n",
            "cantidad          1\n",
            "cliente_id        0\n",
            "cliente           0\n",
            "region            0\n",
            "descuento         3\n",
            "dtype: int64\n",
            "\n",
            "Total de valores nulos: 6\n",
            "Porcentaje de nulos por columna:\n",
            "transaccion_id     0.000000\n",
            "fecha_venta        4.761905\n",
            "producto_id        0.000000\n",
            "producto           0.000000\n",
            "categoria          0.000000\n",
            "precio             4.761905\n",
            "cantidad           4.761905\n",
            "cliente_id         0.000000\n",
            "cliente            0.000000\n",
            "region             0.000000\n",
            "descuento         14.285714\n",
            "dtype: float64\n"
          ]
        }
      ]
    },
    {
      "cell_type": "code",
      "source": [
        "# Ver filas con valores nulos\n",
        "print(\"Filas que contienen valores nulos:\")\n",
        "print(df_raw[df_raw.isnull().any(axis=1)])"
      ],
      "metadata": {
        "colab": {
          "base_uri": "https://localhost:8080/"
        },
        "id": "HEVM4HfTL9-4",
        "outputId": "b4760c79-202f-4e32-be91-90f308dafd71"
      },
      "execution_count": null,
      "outputs": [
        {
          "output_type": "stream",
          "name": "stdout",
          "text": [
            "Filas que contienen valores nulos:\n",
            "   transaccion_id fecha_venta producto_id           producto   categoria  \\\n",
            "2          TXN003  2024/01/17     PROD003   Teclado Mecánico  Accesorios   \n",
            "5          TXN006  2024-01-20     PROD005    Webcam Logitech  Accesorios   \n",
            "6          TXN007  15-01-2024     PROD006     Audífonos Sony  Accesorios   \n",
            "8          TXN009  2024-01-23     PROD002  Mouse Logitech MX  accesorios   \n",
            "13         TXN013         NaN     PROD003   Teclado Mecánico  Accesorios   \n",
            "19         TXN019  2024-02-03     PROD014    Batería Externa  Accesorios   \n",
            "\n",
            "   precio  cantidad cliente_id              cliente  region  descuento  \n",
            "2   89.99      30.0     CLI003         Carlos López    Este        NaN  \n",
            "5   79.99       NaN     CLI006    Sofia Hernández    Centro        0.0  \n",
            "6     NaN      25.0     CLI007       Pedro González     Sur        0.2  \n",
            "8   25.50     100.0     CLI009         Roberto Díaz    Este        NaN  \n",
            "13  89.99      12.0     CLI013    Francisco Morales   Norte        0.1  \n",
            "19  35.00      40.0     CLI019         Javier Núñez    Este        NaN  \n"
          ]
        }
      ]
    },
    {
      "cell_type": "code",
      "source": [
        "# 2. Detectar duplicados\n",
        "print(\"=== DETECCIÓN DE DUPLICADOS ===\\n\")\n",
        "print(f\"Total de filas duplicadas: {df_raw.duplicated().sum()}\")\n",
        "\n",
        "# Ver las filas duplicadas\n",
        "print(\"\\nFilas duplicadas:\")\n",
        "print(df_raw[df_raw.duplicated(keep=False)])"
      ],
      "metadata": {
        "colab": {
          "base_uri": "https://localhost:8080/"
        },
        "id": "q19HDSXXMAJk",
        "outputId": "d7ac79f0-22ca-4e3a-9c3c-8ede0c9a248b"
      },
      "execution_count": null,
      "outputs": [
        {
          "output_type": "stream",
          "name": "stdout",
          "text": [
            "=== DETECCIÓN DE DUPLICADOS ===\n",
            "\n",
            "Total de filas duplicadas: 1\n",
            "\n",
            "Filas duplicadas:\n",
            "   transaccion_id fecha_venta producto_id            producto     categoria  \\\n",
            "0          TXN001  2024-01-15     PROD001  Laptop Dell XPS 13  Computadoras   \n",
            "10         TXN001  2024-01-15     PROD001  Laptop Dell XPS 13  Computadoras   \n",
            "\n",
            "     precio  cantidad cliente_id     cliente region  descuento  \n",
            "0   1299.99       2.0     CLI001  Juan Pérez  Norte        0.1  \n",
            "10  1299.99       2.0     CLI001  Juan Pérez  Norte        0.1  \n"
          ]
        }
      ]
    },
    {
      "cell_type": "code",
      "source": [
        "# 3. Inspeccionar tipos de datos incorrectos\n",
        "print(\"=== PROBLEMAS EN TIPOS DE DATOS ===\\n\")\n",
        "print(\"Tipos actuales:\")\n",
        "print(df_raw.dtypes)\n",
        "\n",
        "print(\"\\n⚠️ Problemas identificados:\")\n",
        "print(\"- 'fecha_venta' es object, debería ser datetime\")\n",
        "print(\"- 'precio' es object (contiene símbolos $), debería ser float\")\n",
        "print(\"- 'cantidad' es object, debería ser int\")"
      ],
      "metadata": {
        "colab": {
          "base_uri": "https://localhost:8080/"
        },
        "id": "LwGt2BSXMHBQ",
        "outputId": "9ec35317-6245-4a73-b420-b5b07d509c47"
      },
      "execution_count": null,
      "outputs": [
        {
          "output_type": "stream",
          "name": "stdout",
          "text": [
            "=== PROBLEMAS EN TIPOS DE DATOS ===\n",
            "\n",
            "Tipos actuales:\n",
            "transaccion_id     object\n",
            "fecha_venta        object\n",
            "producto_id        object\n",
            "producto           object\n",
            "categoria          object\n",
            "precio             object\n",
            "cantidad          float64\n",
            "cliente_id         object\n",
            "cliente            object\n",
            "region             object\n",
            "descuento         float64\n",
            "dtype: object\n",
            "\n",
            "⚠️ Problemas identificados:\n",
            "- 'fecha_venta' es object, debería ser datetime\n",
            "- 'precio' es object (contiene símbolos $), debería ser float\n",
            "- 'cantidad' es object, debería ser int\n"
          ]
        }
      ]
    },
    {
      "cell_type": "code",
      "source": [
        "# 4. Ver valores únicos en columnas categóricas\n",
        "print(\"=== VALORES ÚNICOS EN CATEGORÍAS ===\\n\")\n",
        "\n",
        "print(\"Categorías únicas (problema de mayúsculas/minúsculas):\")\n",
        "print(df_raw['categoria'].unique())\n",
        "\n",
        "print(\"\\nRegiones únicas:\")\n",
        "print(df_raw['region'].unique())"
      ],
      "metadata": {
        "colab": {
          "base_uri": "https://localhost:8080/"
        },
        "id": "roPDhQJOMIhE",
        "outputId": "67917f97-e186-4655-fc37-0aa9f7f6cb29"
      },
      "execution_count": null,
      "outputs": [
        {
          "output_type": "stream",
          "name": "stdout",
          "text": [
            "=== VALORES ÚNICOS EN CATEGORÍAS ===\n",
            "\n",
            "Categorías únicas (problema de mayúsculas/minúsculas):\n",
            "['Computadoras' 'Accesorios' 'Tablets' 'accesorios' 'Periféricos' 'Redes'\n",
            " 'Almacenamiento' 'Componentes' 'COMPUTADORAS' 'Mobiliario']\n",
            "\n",
            "Regiones únicas:\n",
            "['Norte' 'Sur' 'Este' 'Oeste' 'Centro']\n"
          ]
        }
      ]
    },
    {
      "cell_type": "code",
      "source": [
        "# 5. Detectar valores fuera de rango\n",
        "print(\"=== VALORES FUERA DE RANGO ===\\n\")\n",
        "\n",
        "# Intentar convertir cantidad a numérico para ver problemas\n",
        "df_raw['cantidad_temp'] = pd.to_numeric(df_raw['cantidad'], errors='coerce')\n",
        "\n",
        "print(\"Estadísticas de cantidad (después de conversión):\")\n",
        "print(df_raw['cantidad_temp'].describe())\n",
        "\n",
        "print(\"\\n⚠️ Cantidades negativas o cero:\")\n",
        "print(df_raw[df_raw['cantidad_temp'] <= 0][['transaccion_id', 'producto', 'cantidad_temp']])\n",
        "\n",
        "# Eliminar columna temporal\n",
        "df_raw.drop('cantidad_temp', axis=1, inplace=True)"
      ],
      "metadata": {
        "colab": {
          "base_uri": "https://localhost:8080/"
        },
        "id": "uD1PYC0zMK2k",
        "outputId": "6111cfdc-6304-4bca-edbb-6d4887b854cc"
      },
      "execution_count": null,
      "outputs": [
        {
          "output_type": "stream",
          "name": "stdout",
          "text": [
            "=== VALORES FUERA DE RANGO ===\n",
            "\n",
            "Estadísticas de cantidad (después de conversión):\n",
            "count     20.000000\n",
            "mean      27.650000\n",
            "std       47.157379\n",
            "min       -5.000000\n",
            "25%        2.750000\n",
            "50%       11.000000\n",
            "75%       30.000000\n",
            "max      200.000000\n",
            "Name: cantidad_temp, dtype: float64\n",
            "\n",
            "⚠️ Cantidades negativas o cero:\n",
            "   transaccion_id        producto  cantidad_temp\n",
            "16         TXN016  Mousepad Gamer           -5.0\n"
          ]
        }
      ]
    },
    {
      "cell_type": "markdown",
      "source": [
        "---\n",
        "## 7. Pipeline de Limpieza de Datos\n",
        "\n",
        "Ahora aplicamos un proceso sistemático de limpieza paso a paso."
      ],
      "metadata": {
        "id": "QTMnZmvQMNwv"
      }
    },
    {
      "cell_type": "code",
      "source": [
        "# Crear una copia para trabajar sin modificar los datos originales\n",
        "df = df_raw.copy()\n",
        "\n",
        "print(\"=== INICIO DEL PROCESO DE LIMPIEZA ===\")\n",
        "print(f\"Registros iniciales: {len(df)}\")\n",
        "print(f\"Columnas: {len(df.columns)}\")"
      ],
      "metadata": {
        "colab": {
          "base_uri": "https://localhost:8080/"
        },
        "id": "Bylzq9cPMNIl",
        "outputId": "0cda3523-7390-4be4-aa0b-ed4ba81dec4d"
      },
      "execution_count": null,
      "outputs": [
        {
          "output_type": "stream",
          "name": "stdout",
          "text": [
            "=== INICIO DEL PROCESO DE LIMPIEZA ===\n",
            "Registros iniciales: 21\n",
            "Columnas: 11\n"
          ]
        }
      ]
    },
    {
      "cell_type": "markdown",
      "source": [
        "### Paso 1: Limpieza de Duplicados"
      ],
      "metadata": {
        "id": "PK-8dVF1MRtO"
      }
    },
    {
      "cell_type": "code",
      "metadata": {
        "colab": {
          "base_uri": "https://localhost:8080/"
        },
        "id": "230c46eb",
        "outputId": "de958fc0-90b9-47dd-904d-2837175d2023"
      },
      "source": [
        "# Eliminar duplicados completos\n",
        "print(\"PASO 1: Eliminación de duplicados\")\n",
        "print(f\"Duplicados encontrados: {df.duplicated().sum()}\")\n",
        "\n",
        "df = df.drop_duplicates()\n",
        "\n",
        "print(f\"Registros después de eliminar duplicados: {len(df)}\")"
      ],
      "execution_count": null,
      "outputs": [
        {
          "output_type": "stream",
          "name": "stdout",
          "text": [
            "PASO 1: Eliminación de duplicados\n",
            "Duplicados encontrados: 1\n",
            "Registros después de eliminar duplicados: 20\n"
          ]
        }
      ]
    },
    {
      "cell_type": "markdown",
      "source": [
        "### Paso 2: Limpieza y Conversión de Fechas"
      ],
      "metadata": {
        "id": "4FdP-J8mNHcw"
      }
    },
    {
      "cell_type": "code",
      "source": [
        "# Convertir fechas (múltiples formatos)\n",
        "print(\"PASO 2: Conversión de fechas\")\n",
        "\n",
        "# Ver formatos actuales\n",
        "print(\"Muestra de fechas antes de convertir:\")\n",
        "print(df['fecha_venta'].head(10))\n",
        "\n",
        "# Convertir con inferencia automática\n",
        "df['fecha_venta'] = pd.to_datetime(df['fecha_venta'], errors='coerce')\n",
        "\n",
        "# Ver resultado\n",
        "print(\"\\nDespués de conversión:\")\n",
        "print(df['fecha_venta'].head(10))\n",
        "print(f\"Tipo de datos: {df['fecha_venta'].dtype}\")\n",
        "\n",
        "# Ver si hay fechas que no pudieron convertirse (NaT)\n",
        "print(f\"\\nFechas nulas (NaT) después de conversión: {df['fecha_venta'].isna().sum()}\")"
      ],
      "metadata": {
        "colab": {
          "base_uri": "https://localhost:8080/"
        },
        "id": "VjLYxE8bNJS-",
        "outputId": "46705176-8f2f-4e7e-e39f-87f058cb15ab"
      },
      "execution_count": null,
      "outputs": [
        {
          "output_type": "stream",
          "name": "stdout",
          "text": [
            "PASO 2: Conversión de fechas\n",
            "Muestra de fechas antes de convertir:\n",
            "0    2024-01-15\n",
            "1    2024-01-16\n",
            "2    2024/01/17\n",
            "3    2024-01-18\n",
            "4    2024-01-19\n",
            "5    2024-01-20\n",
            "6    15-01-2024\n",
            "7    2024-01-22\n",
            "8    2024-01-23\n",
            "9    2024-01-24\n",
            "Name: fecha_venta, dtype: object\n",
            "\n",
            "Después de conversión:\n",
            "0   2024-01-15\n",
            "1   2024-01-16\n",
            "2          NaT\n",
            "3   2024-01-18\n",
            "4   2024-01-19\n",
            "5   2024-01-20\n",
            "6          NaT\n",
            "7   2024-01-22\n",
            "8   2024-01-23\n",
            "9   2024-01-24\n",
            "Name: fecha_venta, dtype: datetime64[ns]\n",
            "Tipo de datos: datetime64[ns]\n",
            "\n",
            "Fechas nulas (NaT) después de conversión: 3\n"
          ]
        },
        {
          "output_type": "stream",
          "name": "stderr",
          "text": [
            "/tmp/ipython-input-123179766.py:9: SettingWithCopyWarning: \n",
            "A value is trying to be set on a copy of a slice from a DataFrame.\n",
            "Try using .loc[row_indexer,col_indexer] = value instead\n",
            "\n",
            "See the caveats in the documentation: https://pandas.pydata.org/pandas-docs/stable/user_guide/indexing.html#returning-a-view-versus-a-copy\n",
            "  df['fecha_venta'] = pd.to_datetime(df['fecha_venta'], errors='coerce')\n"
          ]
        }
      ]
    },
    {
      "cell_type": "code",
      "source": [
        "# Ver filas con fechas nulas\n",
        "print(\"Registros con fecha nula:\")\n",
        "print(df[df['fecha_venta'].isna()][['transaccion_id', 'fecha_venta', 'producto']])"
      ],
      "metadata": {
        "colab": {
          "base_uri": "https://localhost:8080/"
        },
        "id": "QH6NDiLHNM71",
        "outputId": "14c7ad31-1cf9-49e2-dd01-03687b4e0ba9"
      },
      "execution_count": null,
      "outputs": [
        {
          "output_type": "stream",
          "name": "stdout",
          "text": [
            "Registros con fecha nula:\n",
            "   transaccion_id fecha_venta          producto\n",
            "2          TXN003         NaT  Teclado Mecánico\n",
            "6          TXN007         NaT    Audífonos Sony\n",
            "13         TXN013         NaT  Teclado Mecánico\n"
          ]
        }
      ]
    },
    {
      "cell_type": "markdown",
      "source": [
        "### Paso 3: Limpieza y Conversión de Precios"
      ],
      "metadata": {
        "id": "qUFCA9SYNhMv"
      }
    },
    {
      "cell_type": "code",
      "source": [
        "# Limpiar y convertir precios\n",
        "print(\"PASO 3: Limpieza de precios\")\n",
        "\n",
        "# Ver valores actuales\n",
        "print(\"Muestra de precios antes de limpiar:\")\n",
        "print(df['precio'].head(10))\n",
        "\n",
        "# Eliminar símbolos y convertir\n",
        "df['precio'] = df['precio'].astype(str).str.replace('$', '', regex=False).str.replace(',', '', regex=False)\n",
        "df['precio'] = pd.to_numeric(df['precio'], errors='coerce')\n",
        "\n",
        "print(\"\\nDespués de limpieza:\")\n",
        "print(df['precio'].head(10))\n",
        "print(f\"Tipo de datos: {df['precio'].dtype}\")\n",
        "\n",
        "# Estadísticas\n",
        "print(\"\\nEstadísticas de precios:\")\n",
        "print(df['precio'].describe())\n",
        "\n",
        "# Ver precios nulos\n",
        "print(f\"\\nPrecios nulos: {df['precio'].isna().sum()}\")"
      ],
      "metadata": {
        "colab": {
          "base_uri": "https://localhost:8080/"
        },
        "id": "xdYZg7SzNjLf",
        "outputId": "22ef3d6b-416c-4536-fd91-dad903ec0216"
      },
      "execution_count": null,
      "outputs": [
        {
          "output_type": "stream",
          "name": "stdout",
          "text": [
            "PASO 3: Limpieza de precios\n",
            "Muestra de precios antes de limpiar:\n",
            "0    1299.99\n",
            "1     $25.50\n",
            "2      89.99\n",
            "3     349.99\n",
            "4    1299.99\n",
            "5      79.99\n",
            "6        NaN\n",
            "7     450.00\n",
            "8      25.50\n",
            "9     199.99\n",
            "Name: precio, dtype: object\n",
            "\n",
            "Después de limpieza:\n",
            "0    1299.99\n",
            "1      25.50\n",
            "2      89.99\n",
            "3     349.99\n",
            "4    1299.99\n",
            "5      79.99\n",
            "6        NaN\n",
            "7     450.00\n",
            "8      25.50\n",
            "9     199.99\n",
            "Name: precio, dtype: float64\n",
            "Tipo de datos: float64\n",
            "\n",
            "Estadísticas de precios:\n",
            "count      19.000000\n",
            "mean      326.834737\n",
            "std       451.716846\n",
            "min        12.990000\n",
            "25%        47.495000\n",
            "50%        95.000000\n",
            "75%       349.990000\n",
            "max      1299.990000\n",
            "Name: precio, dtype: float64\n",
            "\n",
            "Precios nulos: 1\n"
          ]
        },
        {
          "output_type": "stream",
          "name": "stderr",
          "text": [
            "/tmp/ipython-input-3102816398.py:9: SettingWithCopyWarning: \n",
            "A value is trying to be set on a copy of a slice from a DataFrame.\n",
            "Try using .loc[row_indexer,col_indexer] = value instead\n",
            "\n",
            "See the caveats in the documentation: https://pandas.pydata.org/pandas-docs/stable/user_guide/indexing.html#returning-a-view-versus-a-copy\n",
            "  df['precio'] = df['precio'].astype(str).str.replace('$', '', regex=False).str.replace(',', '', regex=False)\n",
            "/tmp/ipython-input-3102816398.py:10: SettingWithCopyWarning: \n",
            "A value is trying to be set on a copy of a slice from a DataFrame.\n",
            "Try using .loc[row_indexer,col_indexer] = value instead\n",
            "\n",
            "See the caveats in the documentation: https://pandas.pydata.org/pandas-docs/stable/user_guide/indexing.html#returning-a-view-versus-a-copy\n",
            "  df['precio'] = pd.to_numeric(df['precio'], errors='coerce')\n"
          ]
        }
      ]
    },
    {
      "cell_type": "markdown",
      "source": [
        "### Paso 4: Conversión de Cantidades"
      ],
      "metadata": {
        "id": "VSpqq5uHNlk5"
      }
    },
    {
      "cell_type": "code",
      "source": [
        "# Convertir cantidades a enteros\n",
        "print(\"PASO 4: Conversión de cantidades\")\n",
        "\n",
        "# Convertir\n",
        "df['cantidad'] = pd.to_numeric(df['cantidad'], errors='coerce')\n",
        "\n",
        "print(f\"Tipo de datos: {df['cantidad'].dtype}\")\n",
        "print(\"\\nEstadísticas:\")\n",
        "print(df['cantidad'].describe())\n",
        "\n",
        "# Identificar cantidades problemáticas\n",
        "print(\"\\nCantidades nulas o <= 0:\")\n",
        "print(df[(df['cantidad'].isna()) | (df['cantidad'] <= 0)][['transaccion_id', 'producto', 'cantidad']])"
      ],
      "metadata": {
        "colab": {
          "base_uri": "https://localhost:8080/"
        },
        "id": "8Cq-FRaiNnia",
        "outputId": "8ce46147-a261-43dd-b3a4-c1ead07c2a3c"
      },
      "execution_count": null,
      "outputs": [
        {
          "output_type": "stream",
          "name": "stdout",
          "text": [
            "PASO 4: Conversión de cantidades\n",
            "Tipo de datos: float64\n",
            "\n",
            "Estadísticas:\n",
            "count     19.000000\n",
            "mean      29.000000\n",
            "std       48.050899\n",
            "min       -5.000000\n",
            "25%        3.500000\n",
            "50%       12.000000\n",
            "75%       30.000000\n",
            "max      200.000000\n",
            "Name: cantidad, dtype: float64\n",
            "\n",
            "Cantidades nulas o <= 0:\n",
            "   transaccion_id         producto  cantidad\n",
            "5          TXN006  Webcam Logitech       NaN\n",
            "16         TXN016   Mousepad Gamer      -5.0\n"
          ]
        },
        {
          "output_type": "stream",
          "name": "stderr",
          "text": [
            "/tmp/ipython-input-1289345279.py:5: SettingWithCopyWarning: \n",
            "A value is trying to be set on a copy of a slice from a DataFrame.\n",
            "Try using .loc[row_indexer,col_indexer] = value instead\n",
            "\n",
            "See the caveats in the documentation: https://pandas.pydata.org/pandas-docs/stable/user_guide/indexing.html#returning-a-view-versus-a-copy\n",
            "  df['cantidad'] = pd.to_numeric(df['cantidad'], errors='coerce')\n"
          ]
        }
      ]
    },
    {
      "cell_type": "markdown",
      "source": [
        "### Paso 5: Manejo de Valores Nulos"
      ],
      "metadata": {
        "id": "1xuQDuXiNsCB"
      }
    },
    {
      "cell_type": "code",
      "source": [
        "# Estrategia de manejo de nulos\n",
        "print(\"PASO 5: Manejo de valores nulos\")\n",
        "\n",
        "print(\"\\nResumen de nulos antes de tratamiento:\")\n",
        "print(df.isnull().sum())\n",
        "\n",
        "# Estrategia por columna:\n",
        "# - fecha_venta: eliminar filas (crítico para análisis temporal)\n",
        "# - precio: eliminar filas (crítico para cálculos)\n",
        "# - cantidad: imputar con 1 (asumimos una unidad)\n",
        "# - descuento: imputar con 0 (sin descuento)\n",
        "\n",
        "# Eliminar filas con fecha o precio nulo\n",
        "registros_antes = len(df)\n",
        "df = df.dropna(subset=['fecha_venta', 'precio'])\n",
        "registros_despues = len(df)\n",
        "\n",
        "print(f\"\\nFilas eliminadas por fecha/precio nulo: {registros_antes - registros_despues}\")\n",
        "\n",
        "# Imputar cantidad nula con 1\n",
        "df['cantidad'].fillna(1, inplace=True)\n",
        "\n",
        "# Imputar descuento nulo con 0\n",
        "df['descuento'].fillna(0, inplace=True)\n",
        "\n",
        "print(\"\\nResumen de nulos después de tratamiento:\")\n",
        "print(df.isnull().sum())"
      ],
      "metadata": {
        "colab": {
          "base_uri": "https://localhost:8080/"
        },
        "id": "li2o2FvzNpIi",
        "outputId": "a3b37192-6d2f-4b55-ce96-31549e5bdc96"
      },
      "execution_count": null,
      "outputs": [
        {
          "output_type": "stream",
          "name": "stdout",
          "text": [
            "PASO 5: Manejo de valores nulos\n",
            "\n",
            "Resumen de nulos antes de tratamiento:\n",
            "transaccion_id    0\n",
            "fecha_venta       3\n",
            "producto_id       0\n",
            "producto          0\n",
            "categoria         0\n",
            "precio            1\n",
            "cantidad          1\n",
            "cliente_id        0\n",
            "cliente           0\n",
            "region            0\n",
            "descuento         3\n",
            "dtype: int64\n",
            "\n",
            "Filas eliminadas por fecha/precio nulo: 3\n",
            "\n",
            "Resumen de nulos después de tratamiento:\n",
            "transaccion_id    0\n",
            "fecha_venta       0\n",
            "producto_id       0\n",
            "producto          0\n",
            "categoria         0\n",
            "precio            0\n",
            "cantidad          0\n",
            "cliente_id        0\n",
            "cliente           0\n",
            "region            0\n",
            "descuento         0\n",
            "dtype: int64\n"
          ]
        },
        {
          "output_type": "stream",
          "name": "stderr",
          "text": [
            "/tmp/ipython-input-309233216.py:21: FutureWarning: A value is trying to be set on a copy of a DataFrame or Series through chained assignment using an inplace method.\n",
            "The behavior will change in pandas 3.0. This inplace method will never work because the intermediate object on which we are setting values always behaves as a copy.\n",
            "\n",
            "For example, when doing 'df[col].method(value, inplace=True)', try using 'df.method({col: value}, inplace=True)' or df[col] = df[col].method(value) instead, to perform the operation inplace on the original object.\n",
            "\n",
            "\n",
            "  df['cantidad'].fillna(1, inplace=True)\n",
            "/tmp/ipython-input-309233216.py:24: FutureWarning: A value is trying to be set on a copy of a DataFrame or Series through chained assignment using an inplace method.\n",
            "The behavior will change in pandas 3.0. This inplace method will never work because the intermediate object on which we are setting values always behaves as a copy.\n",
            "\n",
            "For example, when doing 'df[col].method(value, inplace=True)', try using 'df.method({col: value}, inplace=True)' or df[col] = df[col].method(value) instead, to perform the operation inplace on the original object.\n",
            "\n",
            "\n",
            "  df['descuento'].fillna(0, inplace=True)\n"
          ]
        }
      ]
    },
    {
      "cell_type": "markdown",
      "source": [
        "### Paso 6: Normalización de Texto"
      ],
      "metadata": {
        "id": "BpN_0iaINwQN"
      }
    },
    {
      "cell_type": "code",
      "source": [
        "# Normalizar strings\n",
        "print(\"PASO 6: Normalización de texto\")\n",
        "\n",
        "# Eliminar espacios extras en todas las columnas de texto\n",
        "columnas_texto = ['transaccion_id', 'producto', 'categoria', 'cliente', 'region']\n",
        "\n",
        "for col in columnas_texto:\n",
        "    df[col] = df[col].str.strip()\n",
        "\n",
        "# Normalizar categorías a Title Case\n",
        "print(\"\\nCategorías antes:\")\n",
        "print(df['categoria'].unique())\n",
        "\n",
        "df['categoria'] = df['categoria'].str.title()\n",
        "\n",
        "print(\"\\nCategorías después:\")\n",
        "print(df['categoria'].unique())\n",
        "\n",
        "# Normalizar regiones\n",
        "df['region'] = df['region'].str.title()\n",
        "\n",
        "print(\"\\nRegiones únicas:\")\n",
        "print(df['region'].unique())"
      ],
      "metadata": {
        "colab": {
          "base_uri": "https://localhost:8080/"
        },
        "id": "IcFGiTYGNzMY",
        "outputId": "f704c511-14cf-47eb-f1c8-232b3b852e7f"
      },
      "execution_count": null,
      "outputs": [
        {
          "output_type": "stream",
          "name": "stdout",
          "text": [
            "PASO 6: Normalización de texto\n",
            "\n",
            "Categorías antes:\n",
            "['Computadoras' 'Accesorios' 'Tablets' 'accesorios' 'Periféricos' 'Redes'\n",
            " 'Almacenamiento' 'Componentes' 'COMPUTADORAS' 'Mobiliario']\n",
            "\n",
            "Categorías después:\n",
            "['Computadoras' 'Accesorios' 'Tablets' 'Periféricos' 'Redes'\n",
            " 'Almacenamiento' 'Componentes' 'Mobiliario']\n",
            "\n",
            "Regiones únicas:\n",
            "['Norte' 'Sur' 'Oeste' 'Centro' 'Este']\n"
          ]
        }
      ]
    },
    {
      "cell_type": "markdown",
      "source": [
        "### Paso 7: Filtrado de Valores Válidos"
      ],
      "metadata": {
        "id": "l_anreUDN1zh"
      }
    },
    {
      "cell_type": "code",
      "source": [
        "# Filtrar registros válidos\n",
        "print(\"PASO 7: Filtrado de valores válidos\")\n",
        "\n",
        "registros_antes = len(df)\n",
        "\n",
        "# Filtrar: precio > 0, cantidad > 0, descuento entre 0 y 1\n",
        "df = df[\n",
        "    (df['precio'] > 0) &\n",
        "    (df['cantidad'] > 0) &\n",
        "    (df['descuento'] >= 0) &\n",
        "    (df['descuento'] <= 1)\n",
        "]\n",
        "\n",
        "registros_despues = len(df)\n",
        "\n",
        "print(f\"Registros eliminados por valores inválidos: {registros_antes - registros_despues}\")\n",
        "print(f\"Registros válidos restantes: {registros_despues}\")"
      ],
      "metadata": {
        "colab": {
          "base_uri": "https://localhost:8080/"
        },
        "id": "IDh2bzylN1AX",
        "outputId": "1b75afa6-3a31-415a-ce07-38ba437a1fa7"
      },
      "execution_count": null,
      "outputs": [
        {
          "output_type": "stream",
          "name": "stdout",
          "text": [
            "PASO 7: Filtrado de valores válidos\n",
            "Registros eliminados por valores inválidos: 2\n",
            "Registros válidos restantes: 15\n"
          ]
        }
      ]
    },
    {
      "cell_type": "markdown",
      "source": [
        "### Paso 8: Conversión Final de Tipos de Datos"
      ],
      "metadata": {
        "id": "lAIcdHsHN_yN"
      }
    },
    {
      "cell_type": "code",
      "source": [
        "# Asegurar tipos correctos\n",
        "print(\"PASO 8: Conversión final de tipos\")\n",
        "\n",
        "# Convertir cantidad a int (ya es float después de fillna)\n",
        "df['cantidad'] = df['cantidad'].astype(int)\n",
        "\n",
        "# IDs como string\n",
        "df['transaccion_id'] = df['transaccion_id'].astype(str)\n",
        "df['producto_id'] = df['producto_id'].astype(str)\n",
        "df['cliente_id'] = df['cliente_id'].astype(str)\n",
        "\n",
        "print(\"Tipos de datos finales:\")\n",
        "print(df.dtypes)"
      ],
      "metadata": {
        "colab": {
          "base_uri": "https://localhost:8080/"
        },
        "id": "qupall7tOBep",
        "outputId": "68d8f2ad-6359-4e85-ebcd-a9790a6797e1"
      },
      "execution_count": null,
      "outputs": [
        {
          "output_type": "stream",
          "name": "stdout",
          "text": [
            "PASO 8: Conversión final de tipos\n",
            "Tipos de datos finales:\n",
            "transaccion_id            object\n",
            "fecha_venta       datetime64[ns]\n",
            "producto_id               object\n",
            "producto                  object\n",
            "categoria                 object\n",
            "precio                   float64\n",
            "cantidad                   int64\n",
            "cliente_id                object\n",
            "cliente                   object\n",
            "region                    object\n",
            "descuento                float64\n",
            "dtype: object\n"
          ]
        }
      ]
    },
    {
      "cell_type": "markdown",
      "source": [
        "### Paso 9: Creación de Columnas Calculadas"
      ],
      "metadata": {
        "id": "KUiV6eexPI-g"
      }
    },
    {
      "cell_type": "code",
      "source": [
        "# Crear columnas derivadas\n",
        "print(\"PASO 9: Creación de columnas calculadas\")\n",
        "\n",
        "# Calcular total de venta\n",
        "df['total'] = df['cantidad'] * df['precio']\n",
        "\n",
        "# Calcular precio final con descuento\n",
        "df['precio_final'] = df['precio'] * (1 - df['descuento'])\n",
        "\n",
        "# Calcular total final\n",
        "df['total_final'] = df['cantidad'] * df['precio_final']\n",
        "\n",
        "# Extraer componentes de fecha\n",
        "df['año'] = df['fecha_venta'].dt.year\n",
        "df['mes'] = df['fecha_venta'].dt.month\n",
        "df['dia'] = df['fecha_venta'].dt.day\n",
        "df['dia_semana'] = df['fecha_venta'].dt.day_name()\n",
        "\n",
        "# Crear período año-mes\n",
        "df['año_mes'] = df['fecha_venta'].dt.to_period('M')\n",
        "\n",
        "print(\"Columnas añadidas:\")\n",
        "print(df[['transaccion_id', 'total', 'precio_final', 'total_final', 'año', 'mes']].head())"
      ],
      "metadata": {
        "colab": {
          "base_uri": "https://localhost:8080/"
        },
        "id": "Rm2xTnf2PK_f",
        "outputId": "ff43ce72-d210-4654-838d-ca81a668beff"
      },
      "execution_count": null,
      "outputs": [
        {
          "output_type": "stream",
          "name": "stdout",
          "text": [
            "PASO 9: Creación de columnas calculadas\n",
            "Columnas añadidas:\n",
            "  transaccion_id    total  precio_final  total_final   año  mes\n",
            "0         TXN001  2599.98     1169.9910     2339.982  2024    1\n",
            "1         TXN002  1275.00       24.2250     1211.250  2024    1\n",
            "2         TXN004  3499.90      297.4915     2974.915  2024    1\n",
            "3         TXN005  1299.99     1169.9910     1169.991  2024    1\n",
            "4         TXN006    79.99       79.9900       79.990  2024    1\n"
          ]
        }
      ]
    },
    {
      "cell_type": "markdown",
      "source": [
        "### Paso 10: Ordenamiento y Reset de Índice"
      ],
      "metadata": {
        "id": "3TS5h19cPMf-"
      }
    },
    {
      "cell_type": "code",
      "source": [
        "# Ordenar por fecha y resetear índice\n",
        "print(\"PASO 10: Ordenamiento final\")\n",
        "\n",
        "df = df.sort_values('fecha_venta').reset_index(drop=True)\n",
        "\n",
        "print(\"Primeras filas después de ordenar:\")\n",
        "print(df.head())"
      ],
      "metadata": {
        "colab": {
          "base_uri": "https://localhost:8080/"
        },
        "id": "U4ecA2EkPN7L",
        "outputId": "5ee26f0f-7605-4d0c-d3c2-32d0c3e547c1"
      },
      "execution_count": null,
      "outputs": [
        {
          "output_type": "stream",
          "name": "stdout",
          "text": [
            "PASO 10: Ordenamiento final\n",
            "Primeras filas después de ordenar:\n",
            "  transaccion_id fecha_venta producto_id             producto     categoria  \\\n",
            "0         TXN001  2024-01-15     PROD001   Laptop Dell XPS 13  Computadoras   \n",
            "1         TXN002  2024-01-16     PROD002    Mouse Logitech MX    Accesorios   \n",
            "2         TXN004  2024-01-18     PROD004  Monitor Samsung 27\"  Computadoras   \n",
            "3         TXN005  2024-01-19     PROD001   Laptop Dell XPS 13  Computadoras   \n",
            "4         TXN006  2024-01-20     PROD005      Webcam Logitech    Accesorios   \n",
            "\n",
            "    precio  cantidad cliente_id          cliente  region  descuento    total  \\\n",
            "0  1299.99         2     CLI001       Juan Pérez   Norte       0.10  2599.98   \n",
            "1    25.50        50     CLI002     María García     Sur       0.05  1275.00   \n",
            "2   349.99        10     CLI004     Ana Martínez   Oeste       0.15  3499.90   \n",
            "3  1299.99         1     CLI005   Luis Rodríguez   Norte       0.10  1299.99   \n",
            "4    79.99         1     CLI006  Sofia Hernández  Centro       0.00    79.99   \n",
            "\n",
            "   precio_final  total_final   año  mes  dia dia_semana  año_mes  \n",
            "0     1169.9910     2339.982  2024    1   15     Monday  2024-01  \n",
            "1       24.2250     1211.250  2024    1   16    Tuesday  2024-01  \n",
            "2      297.4915     2974.915  2024    1   18   Thursday  2024-01  \n",
            "3     1169.9910     1169.991  2024    1   19     Friday  2024-01  \n",
            "4       79.9900       79.990  2024    1   20   Saturday  2024-01  \n"
          ]
        }
      ]
    },
    {
      "cell_type": "markdown",
      "source": [
        "---\n",
        "## 8. Validaciones Post-Limpieza\n",
        "\n",
        "Verificamos que los datos estén correctos y completos."
      ],
      "metadata": {
        "id": "Cp0BvUxgPP-z"
      }
    },
    {
      "cell_type": "code",
      "source": [
        "# Validaciones finales\n",
        "print(\"=== VALIDACIONES POST-LIMPIEZA ===\\n\")\n",
        "\n",
        "# 1. Verificar que no hay nulos en columnas críticas\n",
        "columnas_criticas = ['transaccion_id', 'fecha_venta', 'producto', 'precio', 'cantidad']\n",
        "nulos_criticos = df[columnas_criticas].isnull().sum().sum()\n",
        "\n",
        "print(f\"1. Nulos en columnas críticas: {nulos_criticos}\")\n",
        "assert nulos_criticos == 0, \"⚠️ Aún hay nulos en columnas críticas\"\n",
        "print(\"   ✓ No hay nulos en columnas críticas\")\n",
        "\n",
        "# 2. Verificar tipos de datos\n",
        "print(\"\\n2. Verificación de tipos de datos:\")\n",
        "assert df['fecha_venta'].dtype == 'datetime64[ns]', \"Fecha no es datetime\"\n",
        "print(\"   ✓ Fechas en formato datetime\")\n",
        "\n",
        "assert df['precio'].dtype in ['float64', 'float32'], \"Precio no es float\"\n",
        "print(\"   ✓ Precios en formato numérico\")\n",
        "\n",
        "assert df['cantidad'].dtype in ['int64', 'int32'], \"Cantidad no es int\"\n",
        "print(\"   ✓ Cantidades en formato entero\")\n",
        "\n",
        "# 3. Verificar rangos válidos\n",
        "print(\"\\n3. Verificación de rangos:\")\n",
        "assert (df['precio'] > 0).all(), \"Hay precios <= 0\"\n",
        "print(\"   ✓ Todos los precios son positivos\")\n",
        "\n",
        "assert (df['cantidad'] > 0).all(), \"Hay cantidades <= 0\"\n",
        "print(\"   ✓ Todas las cantidades son positivas\")\n",
        "\n",
        "assert (df['descuento'] >= 0).all() and (df['descuento'] <= 1).all(), \"Descuentos fuera de rango\"\n",
        "print(\"   ✓ Descuentos entre 0 y 1\")\n",
        "\n",
        "# 4. Verificar que no hay duplicados\n",
        "print(f\"\\n4. Duplicados: {df.duplicated().sum()}\")\n",
        "assert df.duplicated().sum() == 0, \"Hay duplicados\"\n",
        "print(\"   ✓ No hay registros duplicados\")\n",
        "\n",
        "print(\"\\n\" + \"=\"*50)\n",
        "print(\"✅ TODAS LAS VALIDACIONES PASARON CORRECTAMENTE\")\n",
        "print(\"=\"*50)"
      ],
      "metadata": {
        "colab": {
          "base_uri": "https://localhost:8080/"
        },
        "id": "dIyT_-IFPPuD",
        "outputId": "f2178311-eb22-4127-edad-5c558c1d2f05"
      },
      "execution_count": null,
      "outputs": [
        {
          "output_type": "stream",
          "name": "stdout",
          "text": [
            "=== VALIDACIONES POST-LIMPIEZA ===\n",
            "\n",
            "1. Nulos en columnas críticas: 0\n",
            "   ✓ No hay nulos en columnas críticas\n",
            "\n",
            "2. Verificación de tipos de datos:\n",
            "   ✓ Fechas en formato datetime\n",
            "   ✓ Precios en formato numérico\n",
            "   ✓ Cantidades en formato entero\n",
            "\n",
            "3. Verificación de rangos:\n",
            "   ✓ Todos los precios son positivos\n",
            "   ✓ Todas las cantidades son positivas\n",
            "   ✓ Descuentos entre 0 y 1\n",
            "\n",
            "4. Duplicados: 0\n",
            "   ✓ No hay registros duplicados\n",
            "\n",
            "==================================================\n",
            "✅ TODAS LAS VALIDACIONES PASARON CORRECTAMENTE\n",
            "==================================================\n"
          ]
        }
      ]
    },
    {
      "cell_type": "markdown",
      "source": [
        "---\n",
        "## 9. Resumen Final y Comparación"
      ],
      "metadata": {
        "id": "Qknn5RQIPZAB"
      }
    },
    {
      "cell_type": "code",
      "source": [
        "# Comparación antes vs después\n",
        "print(\"=== COMPARACIÓN: DATOS CRUDOS VS DATOS LIMPIOS ===\\n\")\n",
        "\n",
        "print(f\"Registros originales:    {len(df_raw)}\")\n",
        "print(f\"Registros limpios:       {len(df)}\")\n",
        "print(f\"Registros eliminados:    {len(df_raw) - len(df)}\")\n",
        "print(f\"Porcentaje retenido:     {(len(df) / len(df_raw)) * 100:.1f}%\")\n",
        "\n",
        "print(f\"\\nColumnas originales:     {len(df_raw.columns)}\")\n",
        "print(f\"Columnas finales:        {len(df.columns)}\")\n",
        "print(f\"Columnas añadidas:       {len(df.columns) - len(df_raw.columns)}\")\n",
        "\n",
        "print(f\"\\nMemoria original:        {df_raw.memory_usage(deep=True).sum() / 1024:.2f} KB\")\n",
        "print(f\"Memoria final:           {df.memory_usage(deep=True).sum() / 1024:.2f} KB\")"
      ],
      "metadata": {
        "colab": {
          "base_uri": "https://localhost:8080/"
        },
        "id": "bq7b0xZ6PYj5",
        "outputId": "6794c2c2-f8f9-4a93-a6a9-328e392d4db4"
      },
      "execution_count": null,
      "outputs": [
        {
          "output_type": "stream",
          "name": "stdout",
          "text": [
            "=== COMPARACIÓN: DATOS CRUDOS VS DATOS LIMPIOS ===\n",
            "\n",
            "Registros originales:    21\n",
            "Registros limpios:       15\n",
            "Registros eliminados:    6\n",
            "Porcentaje retenido:     71.4%\n",
            "\n",
            "Columnas originales:     11\n",
            "Columnas finales:        19\n",
            "Columnas añadidas:       8\n",
            "\n",
            "Memoria original:        11.62 KB\n",
            "Memoria final:           8.37 KB\n"
          ]
        }
      ]
    },
    {
      "cell_type": "code",
      "source": [
        "# Vista final del dataset limpio\n",
        "print(\"=== DATASET LIMPIO - PRIMERAS 10 FILAS ===\")\n",
        "print(df.head(10))"
      ],
      "metadata": {
        "colab": {
          "base_uri": "https://localhost:8080/"
        },
        "id": "PW_r-4JbPcEi",
        "outputId": "a964a165-dd74-426c-9e7c-d7325b03d56e"
      },
      "execution_count": null,
      "outputs": [
        {
          "output_type": "stream",
          "name": "stdout",
          "text": [
            "=== DATASET LIMPIO - PRIMERAS 10 FILAS ===\n",
            "  transaccion_id fecha_venta producto_id             producto       categoria  \\\n",
            "0         TXN001  2024-01-15     PROD001   Laptop Dell XPS 13    Computadoras   \n",
            "1         TXN002  2024-01-16     PROD002    Mouse Logitech MX      Accesorios   \n",
            "2         TXN004  2024-01-18     PROD004  Monitor Samsung 27\"    Computadoras   \n",
            "3         TXN005  2024-01-19     PROD001   Laptop Dell XPS 13    Computadoras   \n",
            "4         TXN006  2024-01-20     PROD005      Webcam Logitech      Accesorios   \n",
            "5         TXN008  2024-01-22     PROD007       Tablet Samsung         Tablets   \n",
            "6         TXN009  2024-01-23     PROD002    Mouse Logitech MX      Accesorios   \n",
            "7         TXN010  2024-01-24     PROD008         Impresora HP     Periféricos   \n",
            "8         TXN012  2024-01-26     PROD010      SSD Samsung 1TB  Almacenamiento   \n",
            "9         TXN014  2024-01-28     PROD011     RAM Corsair 16GB     Componentes   \n",
            "\n",
            "    precio  cantidad cliente_id          cliente  region  descuento    total  \\\n",
            "0  1299.99         2     CLI001       Juan Pérez   Norte       0.10  2599.98   \n",
            "1    25.50        50     CLI002     María García     Sur       0.05  1275.00   \n",
            "2   349.99        10     CLI004     Ana Martínez   Oeste       0.15  3499.90   \n",
            "3  1299.99         1     CLI005   Luis Rodríguez   Norte       0.10  1299.99   \n",
            "4    79.99         1     CLI006  Sofia Hernández  Centro       0.00    79.99   \n",
            "5   450.00         5     CLI008    Laura Sánchez   Norte       0.10  2250.00   \n",
            "6    25.50       100     CLI009     Roberto Díaz    Este       0.00  2550.00   \n",
            "7   199.99         8     CLI010      Carmen Ruiz   Oeste       0.05  1599.92   \n",
            "8   129.99        20     CLI012    Isabel Flores     Sur       0.08  2599.80   \n",
            "9    95.00        30     CLI014  Patricia Castro    Este       0.12  2850.00   \n",
            "\n",
            "   precio_final  total_final   año  mes  dia dia_semana  año_mes  \n",
            "0     1169.9910     2339.982  2024    1   15     Monday  2024-01  \n",
            "1       24.2250     1211.250  2024    1   16    Tuesday  2024-01  \n",
            "2      297.4915     2974.915  2024    1   18   Thursday  2024-01  \n",
            "3     1169.9910     1169.991  2024    1   19     Friday  2024-01  \n",
            "4       79.9900       79.990  2024    1   20   Saturday  2024-01  \n",
            "5      405.0000     2025.000  2024    1   22     Monday  2024-01  \n",
            "6       25.5000     2550.000  2024    1   23    Tuesday  2024-01  \n",
            "7      189.9905     1519.924  2024    1   24  Wednesday  2024-01  \n",
            "8      119.5908     2391.816  2024    1   26     Friday  2024-01  \n",
            "9       83.6000     2508.000  2024    1   28     Sunday  2024-01  \n"
          ]
        }
      ]
    },
    {
      "cell_type": "code",
      "source": [
        "# Información final del dataset\n",
        "print(\"=== INFORMACIÓN FINAL DEL DATASET ===\")\n",
        "print(df.info())"
      ],
      "metadata": {
        "colab": {
          "base_uri": "https://localhost:8080/"
        },
        "id": "ZH6L1EDXPeSG",
        "outputId": "76ef9bab-0b7e-4067-c3bb-50f83fedc254"
      },
      "execution_count": null,
      "outputs": [
        {
          "output_type": "stream",
          "name": "stdout",
          "text": [
            "=== INFORMACIÓN FINAL DEL DATASET ===\n",
            "<class 'pandas.core.frame.DataFrame'>\n",
            "RangeIndex: 15 entries, 0 to 14\n",
            "Data columns (total 19 columns):\n",
            " #   Column          Non-Null Count  Dtype         \n",
            "---  ------          --------------  -----         \n",
            " 0   transaccion_id  15 non-null     object        \n",
            " 1   fecha_venta     15 non-null     datetime64[ns]\n",
            " 2   producto_id     15 non-null     object        \n",
            " 3   producto        15 non-null     object        \n",
            " 4   categoria       15 non-null     object        \n",
            " 5   precio          15 non-null     float64       \n",
            " 6   cantidad        15 non-null     int64         \n",
            " 7   cliente_id      15 non-null     object        \n",
            " 8   cliente         15 non-null     object        \n",
            " 9   region          15 non-null     object        \n",
            " 10  descuento       15 non-null     float64       \n",
            " 11  total           15 non-null     float64       \n",
            " 12  precio_final    15 non-null     float64       \n",
            " 13  total_final     15 non-null     float64       \n",
            " 14  año             15 non-null     int32         \n",
            " 15  mes             15 non-null     int32         \n",
            " 16  dia             15 non-null     int32         \n",
            " 17  dia_semana      15 non-null     object        \n",
            " 18  año_mes         15 non-null     period[M]     \n",
            "dtypes: datetime64[ns](1), float64(5), int32(3), int64(1), object(8), period[M](1)\n",
            "memory usage: 2.2+ KB\n",
            "None\n"
          ]
        }
      ]
    },
    {
      "cell_type": "markdown",
      "source": [
        "---\n",
        "## 10. Análisis Exploratorio Básico\n",
        "\n",
        "Ahora que tenemos datos limpios, podemos hacer análisis básico."
      ],
      "metadata": {
        "id": "mmLLJLOQPhgE"
      }
    },
    {
      "cell_type": "code",
      "source": [
        "# Análisis por categoría\n",
        "print(\"=== VENTAS POR CATEGORÍA ===\\n\")\n",
        "\n",
        "ventas_categoria = df.groupby('categoria').agg({\n",
        "    'total_final': 'sum',\n",
        "    'cantidad': 'sum',\n",
        "    'transaccion_id': 'count'\n",
        "}).round(2)\n",
        "\n",
        "ventas_categoria.columns = ['Ventas Totales', 'Unidades Vendidas', 'Num Transacciones']\n",
        "ventas_categoria = ventas_categoria.sort_values('Ventas Totales', ascending=False)\n",
        "\n",
        "print(ventas_categoria)"
      ],
      "metadata": {
        "colab": {
          "base_uri": "https://localhost:8080/"
        },
        "id": "f7eFM7X3PhHK",
        "outputId": "3f17b780-665c-4c02-8634-2affd16a2634"
      },
      "execution_count": null,
      "outputs": [
        {
          "output_type": "stream",
          "name": "stdout",
          "text": [
            "=== VENTAS POR CATEGORÍA ===\n",
            "\n",
            "                Ventas Totales  Unidades Vendidas  Num Transacciones\n",
            "categoria                                                           \n",
            "Computadoras           8547.35                 17                  5\n",
            "Accesorios             7709.34                391                  5\n",
            "Componentes            2508.00                 30                  1\n",
            "Almacenamiento         2391.82                 20                  1\n",
            "Tablets                2025.00                  5                  1\n",
            "Periféricos            1519.92                  8                  1\n",
            "Mobiliario              959.97                  4                  1\n"
          ]
        }
      ]
    },
    {
      "cell_type": "code",
      "source": [
        "# Análisis por región\n",
        "print(\"=== VENTAS POR REGIÓN ===\\n\")\n",
        "\n",
        "ventas_region = df.groupby('region').agg({\n",
        "    'total_final': ['sum', 'mean'],\n",
        "    'transaccion_id': 'count'\n",
        "}).round(2)\n",
        "\n",
        "ventas_region.columns = ['Total Ventas', 'Ticket Promedio', 'Num Transacciones']\n",
        "ventas_region = ventas_region.sort_values('Total Ventas', ascending=False)\n",
        "\n",
        "print(ventas_region)"
      ],
      "metadata": {
        "colab": {
          "base_uri": "https://localhost:8080/"
        },
        "id": "oEBqmfS8PzfW",
        "outputId": "009fcaf6-6d79-4471-d2bd-7484bc65a686"
      },
      "execution_count": null,
      "outputs": [
        {
          "output_type": "stream",
          "name": "stdout",
          "text": [
            "=== VENTAS POR REGIÓN ===\n",
            "\n",
            "        Total Ventas  Ticket Promedio  Num Transacciones\n",
            "region                                                  \n",
            "Norte        8003.07          2000.77                  4\n",
            "Este         6458.00          2152.67                  3\n",
            "Oeste        6347.28          1586.82                  4\n",
            "Sur          4773.06          1591.02                  3\n",
            "Centro         79.99            79.99                  1\n"
          ]
        }
      ]
    },
    {
      "cell_type": "code",
      "source": [
        "# Top 10 productos más vendidos\n",
        "print(\"=== TOP 10 PRODUCTOS MÁS VENDIDOS ===\\n\")\n",
        "\n",
        "top_productos = df.groupby('producto').agg({\n",
        "    'cantidad': 'sum',\n",
        "    'total_final': 'sum'\n",
        "}).round(2)\n",
        "\n",
        "top_productos.columns = ['Unidades', 'Ventas Totales']\n",
        "top_productos = top_productos.sort_values('Ventas Totales', ascending=False).head(10)\n",
        "\n",
        "print(top_productos)"
      ],
      "metadata": {
        "colab": {
          "base_uri": "https://localhost:8080/"
        },
        "id": "xuR5f6cMRIgu",
        "outputId": "ad18fe67-8434-4752-c046-8077f9ffc0c0"
      },
      "execution_count": null,
      "outputs": [
        {
          "output_type": "stream",
          "name": "stdout",
          "text": [
            "=== TOP 10 PRODUCTOS MÁS VENDIDOS ===\n",
            "\n",
            "                     Unidades  Ventas Totales\n",
            "producto                                     \n",
            "Laptop Dell XPS 13          4         4679.96\n",
            "Monitor Samsung 27\"        13         3867.39\n",
            "Mouse Logitech MX         150         3761.25\n",
            "RAM Corsair 16GB           30         2508.00\n",
            "Cable HDMI                200         2468.10\n",
            "SSD Samsung 1TB            20         2391.82\n",
            "Tablet Samsung              5         2025.00\n",
            "Impresora HP                8         1519.92\n",
            "Batería Externa            40         1400.00\n",
            "Silla Gamer                 4          959.97\n"
          ]
        }
      ]
    },
    {
      "cell_type": "code",
      "source": [
        "# Análisis temporal\n",
        "print(\"=== VENTAS POR MES ===\\n\")\n",
        "\n",
        "ventas_mes = df.groupby('año_mes').agg({\n",
        "    'total_final': 'sum',\n",
        "    'transaccion_id': 'count'\n",
        "}).round(2)\n",
        "\n",
        "ventas_mes.columns = ['Ventas Totales', 'Num Transacciones']\n",
        "\n",
        "print(ventas_mes)"
      ],
      "metadata": {
        "colab": {
          "base_uri": "https://localhost:8080/"
        },
        "id": "LITi4_TURKPa",
        "outputId": "d07756ed-367e-4208-e490-940e8e2d8151"
      },
      "execution_count": null,
      "outputs": [
        {
          "output_type": "stream",
          "name": "stdout",
          "text": [
            "=== VENTAS POR MES ===\n",
            "\n",
            "         Ventas Totales  Num Transacciones\n",
            "año_mes                                   \n",
            "2024-01        19663.34                 11\n",
            "2024-02         5998.06                  4\n"
          ]
        }
      ]
    },
    {
      "cell_type": "markdown",
      "source": [
        "---\n",
        "## 11. Exportar Datos Limpios\n",
        "\n",
        "Guardamos el dataset limpio para uso futuro."
      ],
      "metadata": {
        "id": "-RWP2o_dRM3G"
      }
    },
    {
      "cell_type": "code",
      "source": [
        "# Guardar datos limpios\n",
        "nombre_archivo = 'ventas_clean.csv'\n",
        "df.to_csv(nombre_archivo, index=False)\n",
        "\n",
        "print(f\"✅ Datos limpios guardados en: {nombre_archivo}\")\n",
        "print(f\"   Registros: {len(df)}\")\n",
        "print(f\"   Columnas: {len(df.columns)}\")"
      ],
      "metadata": {
        "colab": {
          "base_uri": "https://localhost:8080/"
        },
        "id": "qIguwzF8RLsC",
        "outputId": "c39c10af-a1e8-48bb-bce3-c1d6677c683f"
      },
      "execution_count": null,
      "outputs": [
        {
          "output_type": "stream",
          "name": "stdout",
          "text": [
            "✅ Datos limpios guardados en: ventas_clean.csv\n",
            "   Registros: 15\n",
            "   Columnas: 19\n"
          ]
        }
      ]
    },
    {
      "cell_type": "markdown",
      "source": [
        "---\n",
        "## 12. Resumen de Aprendizajes\n",
        "\n",
        "### Conceptos Cubiertos:\n",
        "1. ✓ Jupyter Notebooks y entorno de trabajo\n",
        "2. ✓ Pandas Series y DataFrames\n",
        "3. ✓ Carga de datos desde CSV\n",
        "4. ✓ Selección y filtrado de datos (`.loc[]`, `.iloc[]`, booleanos)\n",
        "5. ✓ Detección de problemas (nulos, duplicados, tipos incorrectos)\n",
        "6. ✓ Limpieza de datos sistemática\n",
        "7. ✓ Conversión de tipos de datos\n",
        "8. ✓ Creación de columnas calculadas\n",
        "9. ✓ Validaciones de calidad de datos\n",
        "10. ✓ Análisis exploratorio básico\n",
        "\n",
        "### Próximos Pasos:\n",
        "- Sesión 4.19: Funciones avanzadas (apply, map, groupby) e ingesta a PostgreSQL\n",
        "- Agregar visualizaciones con Matplotlib/Seaborn\n",
        "- Automatizar el pipeline de limpieza"
      ],
      "metadata": {
        "id": "E4liWGu7RTVt"
      }
    }
  ]
}